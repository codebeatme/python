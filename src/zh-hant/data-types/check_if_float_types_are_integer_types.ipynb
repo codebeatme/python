{
 "cells": [
  {
   "cell_type": "markdown",
   "metadata": {},
   "source": [
    "### 如何判斷 Python 浮點數型別（float）是否等價於整數型別（int）\n",
    "想要了解更多關於 Python 數值型別的內容，你可以檢視 [Python 數值型別 int，float，complex 介紹](https://learnscript.net/zh-hant/python/data-types/numeric-types/) 一節。\n",
    "\n",
    "想要了解更多關於 IEEE 754 浮點數的內容，你可以檢視 [什麽是浮點數？IEEE 754 二進位浮點數介紹](https://learnscript.net/zh/programming-reference/data/floating-point-numbers/) 一節。\n",
    "\n",
    "程式碼講解影片 https://youtu.be/7WVSOkW6Hdk"
   ]
  },
  {
   "cell_type": "code",
   "execution_count": null,
   "metadata": {},
   "outputs": [],
   "source": [
    "# 浮點數 1.0 等價於整數 1\n",
    "(1.0).is_integer()"
   ]
  },
  {
   "cell_type": "code",
   "execution_count": null,
   "metadata": {},
   "outputs": [],
   "source": [
    "# 常值的小數部分會被忽略，因此該浮點數等價於整數 1\n",
    "(1.00000000000000000000001).is_integer()\n",
    "1.00000000000000000000001"
   ]
  },
  {
   "cell_type": "code",
   "execution_count": null,
   "metadata": {},
   "outputs": [],
   "source": [
    "# 常值的小數部分不會被忽略，因此該浮點數不等價於任何整數\n",
    "(1.00001).is_integer()\n",
    "1.00001"
   ]
  }
 ],
 "metadata": {
  "kernelspec": {
   "display_name": "Python 3",
   "language": "python",
   "name": "python3"
  },
  "language_info": {
   "codemirror_mode": {
    "name": "ipython",
    "version": 3
   },
   "file_extension": ".py",
   "mimetype": "text/x-python",
   "name": "python",
   "nbconvert_exporter": "python",
   "pygments_lexer": "ipython3",
   "version": "3.12.1"
  }
 },
 "nbformat": 4,
 "nbformat_minor": 2
}
