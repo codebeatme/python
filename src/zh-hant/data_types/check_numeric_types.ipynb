{
 "cells": [
  {
   "cell_type": "markdown",
   "metadata": {},
   "source": [
    "### 如何判斷 Python 變數，物件，執行個體是否為數值型別（numeric types），整數型別（int），浮點數型別（float）或複數型別（complex）\n",
    "想要了解更多關於 Python 數值型別的內容，你可以檢視 [Python 數值型別 int，float，complex 介紹](https://learnscript.net/zh-hant/python/data-types/numeric-types/) 一節。\n",
    "\n",
    "程式碼講解影片 https://youtu.be/GmdH5EAdxUc"
   ]
  },
  {
   "cell_type": "code",
   "execution_count": null,
   "metadata": {},
   "outputs": [],
   "source": [
    "# 匯入 numbers 模組\n",
    "from numbers import Number"
   ]
  },
  {
   "cell_type": "code",
   "execution_count": null,
   "metadata": {},
   "outputs": [],
   "source": [
    "# Number 類別是 int，float，complex 型別的抽象基底類別\n",
    "isinstance(12, Number)\n",
    "isinstance(12.1232, Number)\n",
    "isinstance(12j, Number)\n",
    "isinstance(\"12\", Number)"
   ]
  },
  {
   "cell_type": "code",
   "execution_count": null,
   "metadata": {},
   "outputs": [],
   "source": [
    "# 使用 int，float，complex 可以判斷具體的數值型別\n",
    "isinstance(1.1, int)\n",
    "isinstance(1, float)\n",
    "c = 1-1j\n",
    "isinstance(c, complex)"
   ]
  },
  {
   "cell_type": "code",
   "execution_count": null,
   "metadata": {},
   "outputs": [],
   "source": [
    "# 一個方便判斷數值型別的函式 is_numeric\n",
    "def is_numeric(obj, info=None) -> bool:\n",
    "    '''判斷目標是否為數值型別。\n",
    "\n",
    "    :param obj 需要判斷的目標\n",
    "    :param cls 可以是 int，float，complex 或包含他們的元組，以判斷是否為整數，浮點數或複數型別。預設為 None，表示判斷是否為數值型別。\n",
    "    '''\n",
    "\n",
    "    from numbers import Number\n",
    "\n",
    "    if not info:\n",
    "        return isinstance(obj, Number)\n",
    "    else:\n",
    "        return isinstance(obj, info)\n",
    "\n",
    "\n",
    "# 在一組數值中，判斷既不是整數也不是浮點數的數值\n",
    "for num in (12, 12.34, 0b0001, 1j):\n",
    "    if not is_numeric(num, (int, float)):\n",
    "        print(f'{num} 不是整數也不是浮點數')"
   ]
  }
 ],
 "metadata": {
  "kernelspec": {
   "display_name": "Python 3",
   "language": "python",
   "name": "python3"
  },
  "language_info": {
   "codemirror_mode": {
    "name": "ipython",
    "version": 3
   },
   "file_extension": ".py",
   "mimetype": "text/x-python",
   "name": "python",
   "nbconvert_exporter": "python",
   "pygments_lexer": "ipython3",
   "version": "3.12.1"
  }
 },
 "nbformat": 4,
 "nbformat_minor": 2
}
