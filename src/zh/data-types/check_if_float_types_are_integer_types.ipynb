{
 "cells": [
  {
   "cell_type": "markdown",
   "metadata": {},
   "source": [
    "### 如何判断 Python 浮点数类型（float）是否等价于整数类型（int）\n",
    "想要了解更多关于 Python 数字类型的内容，你可以查看 [Python 数字类型 int，float，complex 介绍](https://learnscript.net/zh/python/data-types/numeric-types/) 一节。\n",
    "\n",
    "想要了解更多关于 IEEE 754 浮点数的内容，你可以查看 [什么是浮点数？IEEE 754 二进制浮点数介绍](https://learnscript.net/zh/programming-reference/data/floating-point-numbers/) 一节。\n",
    "\n",
    "代码讲解视频 https://youtu.be/7WVSOkW6Hdk"
   ]
  },
  {
   "cell_type": "code",
   "execution_count": null,
   "metadata": {},
   "outputs": [],
   "source": [
    "# 浮点数 1.0 等价于整数 1\n",
    "(1.0).is_integer()"
   ]
  },
  {
   "cell_type": "code",
   "execution_count": null,
   "metadata": {},
   "outputs": [],
   "source": [
    "# 字面量的小数部分会被忽略，因此该浮点数等价于整数 1\n",
    "(1.00000000000000000000001).is_integer()\n",
    "1.00000000000000000000001"
   ]
  },
  {
   "cell_type": "code",
   "execution_count": null,
   "metadata": {},
   "outputs": [],
   "source": [
    "# 字面量的小数部分不会被忽略，因此该浮点数不等价于任何整数\n",
    "(1.00001).is_integer()\n",
    "1.00001"
   ]
  }
 ],
 "metadata": {
  "kernelspec": {
   "display_name": "Python 3",
   "language": "python",
   "name": "python3"
  },
  "language_info": {
   "codemirror_mode": {
    "name": "ipython",
    "version": 3
   },
   "file_extension": ".py",
   "mimetype": "text/x-python",
   "name": "python",
   "nbconvert_exporter": "python",
   "pygments_lexer": "ipython3",
   "version": "3.12.1"
  }
 },
 "nbformat": 4,
 "nbformat_minor": 2
}
