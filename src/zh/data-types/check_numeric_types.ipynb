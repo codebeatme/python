{
 "cells": [
  {
   "cell_type": "markdown",
   "metadata": {},
   "source": [
    "### 如何判断 Python 变量，对象，实例是否为数字类型（numeric types），整数类型（int），浮点数类型（float）或复数类型（complex）？\n",
    "想要了解更多关于 Python 数字类型的内容，你可以查看 [Python 数字类型 int，float，complex 介绍](https://learnscript.net/zh-hant/python/data-types/numeric-types/) 一节。"
   ]
  },
  {
   "cell_type": "code",
   "execution_count": null,
   "metadata": {},
   "outputs": [],
   "source": [
    "# 导入 numbers 模块\n",
    "from numbers import Number"
   ]
  },
  {
   "cell_type": "code",
   "execution_count": null,
   "metadata": {},
   "outputs": [],
   "source": [
    "# Number 类是 int，float，complex 类型的抽象基类\n",
    "isinstance(12, Number)\n",
    "isinstance(12.1232, Number)\n",
    "isinstance(12j, Number)\n",
    "isinstance(\"12\", Number)"
   ]
  },
  {
   "cell_type": "code",
   "execution_count": null,
   "metadata": {},
   "outputs": [],
   "source": [
    "# 使用 int，float，complex 可以判断具体的数字类型\n",
    "isinstance(1.1, int)\n",
    "isinstance(1, float)\n",
    "c = 1-1j\n",
    "isinstance(c, complex)"
   ]
  },
  {
   "cell_type": "code",
   "execution_count": null,
   "metadata": {},
   "outputs": [],
   "source": [
    "# 一个方便判断数字类型的函数 is_numeric\n",
    "def is_numeric(obj, info=None) -> bool:\n",
    "    '''判断目标是否为数字类型。\n",
    "\n",
    "    :param obj 需要判断的目标\n",
    "    :param cls 可以是 int，float，complex 或包含他们的元组，以判断是否为整数，浮点数或复数类型。默认为 None，表示判断是否为数字类型。\n",
    "    '''\n",
    "\n",
    "    from numbers import Number\n",
    "\n",
    "    if not info:\n",
    "        return isinstance(obj, Number)\n",
    "    else:\n",
    "        return isinstance(obj, info)\n",
    "\n",
    "\n",
    "# 在一组数字中，判断既不是整数也不是浮点数的数字\n",
    "for num in (12, 12.34, 0b0001, 1j):\n",
    "    if not is_numeric(num, (int, float)):\n",
    "        print(f'{num} 不是整数也不是浮点数')"
   ]
  }
 ],
 "metadata": {
  "kernelspec": {
   "display_name": "Python 3",
   "language": "python",
   "name": "python3"
  },
  "language_info": {
   "codemirror_mode": {
    "name": "ipython",
    "version": 3
   },
   "file_extension": ".py",
   "mimetype": "text/x-python",
   "name": "python",
   "nbconvert_exporter": "python",
   "pygments_lexer": "ipython3",
   "version": "3.12.1"
  }
 },
 "nbformat": 4,
 "nbformat_minor": 2
}
