{
 "cells": [
  {
   "cell_type": "code",
   "execution_count": 4,
   "metadata": {},
   "outputs": [],
   "source": [
    "# 方案 1 ast.literal_eval\n",
    "import ast\n",
    "\n",
    "for i in range(50000):\n",
    "    x = '[ \"A\",\"B\",\"C\" , \" D\"]'\n",
    "    l = ast.literal_eval(x)\n",
    "    r = [n.strip() for n in l]"
   ]
  },
  {
   "cell_type": "code",
   "execution_count": 5,
   "metadata": {},
   "outputs": [],
   "source": [
    "# 方案 2 eval\n",
    "for i in range(50000):\n",
    "    x = '[ \"A\",\"B\",\"C\" , \" D\"]'\n",
    "    l = eval(x)\n",
    "    r = [n.strip() for n in l]"
   ]
  },
  {
   "cell_type": "code",
   "execution_count": 6,
   "metadata": {},
   "outputs": [],
   "source": [
    "# 方案 3 json\n",
    "import json\n",
    "\n",
    "for i in range(50000):\n",
    "    x = '[ \"A\",\"B\",\"C\" , \" D\"]'\n",
    "    l = json.loads(x)\n",
    "    r = [n.strip() for n in l]"
   ]
  },
  {
   "cell_type": "code",
   "execution_count": 7,
   "metadata": {},
   "outputs": [],
   "source": [
    "# 方案 4 re\n",
    "import re\n",
    "\n",
    "for i in range(50000):\n",
    "    x = '[ \"A\",\"B\",\"C\" , \" D\"]'\n",
    "    r = re.findall(r'\"\\s*([^\"]*?)\\s*\"', x)"
   ]
  },
  {
   "cell_type": "code",
   "execution_count": null,
   "metadata": {},
   "outputs": [],
   "source": [
    "# 方案 5 str 方法\n",
    "for i in range(50000):\n",
    "    x = '[ \"A\",\"B\",\"C\" , \" D\"]'\n",
    "    r = x.strip('[]').replace('\"', '').replace(' ', '').split(',')"
   ]
  }
 ],
 "metadata": {
  "kernelspec": {
   "display_name": "Python 3",
   "language": "python",
   "name": "python3"
  },
  "language_info": {
   "codemirror_mode": {
    "name": "ipython",
    "version": 3
   },
   "file_extension": ".py",
   "mimetype": "text/x-python",
   "name": "python",
   "nbconvert_exporter": "python",
   "pygments_lexer": "ipython3",
   "version": "3.13.0"
  }
 },
 "nbformat": 4,
 "nbformat_minor": 2
}
